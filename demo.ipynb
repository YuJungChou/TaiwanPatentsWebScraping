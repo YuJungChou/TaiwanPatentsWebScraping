{
 "cells": [
  {
   "cell_type": "code",
   "execution_count": 127,
   "metadata": {},
   "outputs": [],
   "source": [
    "import os\n",
    "from selenium import webdriver\n",
    "from selenium.webdriver.common.keys import Keys\n",
    "import time, datetime"
   ]
  },
  {
   "cell_type": "code",
   "execution_count": 128,
   "metadata": {},
   "outputs": [],
   "source": [
    "url = 'https://twpat-simple.tipo.gov.tw/tipotwoc/tipotwkm?'"
   ]
  },
  {
   "cell_type": "code",
   "execution_count": 129,
   "metadata": {},
   "outputs": [],
   "source": [
    "# DRIVER SET\n",
    "dest_filedir = os.path.abspath('./download/')\n",
    "profile = webdriver.FirefoxProfile()\n",
    "profile.set_preference(\"browser.download.folderList\", 2) #not to use default Downloads directory\n",
    "profile.set_preference(\"browser.download.manager.showWhenStarting\", False) #showing download progress\n",
    "profile.set_preference(\"browser.download.dir\", dest_filedir) #sets the directory for downloads\n",
    "profile.set_preference(\"browser.helperApps.neverAsk.saveToDisk\", \"application/pdf\") #automatically download the files of the selected mime-types\n",
    "profile.set_preference(\"pdfjs.disabled\", True) #not use browser read mode\n",
    "\n",
    "driver = webdriver.Firefox(firefox_profile=profile)\n",
    "driver.implicitly_wait(20)\n",
    "driver.get(url)\n",
    "time.sleep(20)"
   ]
  },
  {
   "cell_type": "code",
   "execution_count": 130,
   "metadata": {},
   "outputs": [],
   "source": [
    "# GOING TO SEARCH PAGE\n",
    "topmenu_xpath = '/html/body/form/table/tbody/tr[1]/td/table/tbody/tr[2]/td/table/tbody/tr/td/div/ul/li[4]/a'\n",
    "element = driver.find_element_by_xpath(topmenu_xpath)\n",
    "element.click()\n",
    "time.sleep(20)"
   ]
  },
  {
   "cell_type": "code",
   "execution_count": 131,
   "metadata": {},
   "outputs": [],
   "source": [
    "# INPUT SEARCH KEYWORD\n",
    "KEYWORD = '水'\n",
    "element_keyword = driver.find_element_by_xpath(\"//input[@type='text' and @name='_1_1_T']\")\n",
    "element_keyword.send_keys(KEYWORD)"
   ]
  },
  {
   "cell_type": "code",
   "execution_count": 132,
   "metadata": {},
   "outputs": [],
   "source": [
    "# START SEARCH\n",
    "element_search_xpath = '/html/body/form/table/tbody/tr[2]/td/table/tbody/tr/td/table/tbody/tr[3]/td/table/tbody/tr[4]/td/table[2]/tbody/tr[1]/td[3]/input[1]'\n",
    "element_search = driver.find_element_by_xpath(e2_xpath)\n",
    "element_search.click()\n",
    "time.sleep(20)"
   ]
  },
  {
   "cell_type": "code",
   "execution_count": 136,
   "metadata": {},
   "outputs": [
    {
     "name": "stdout",
     "output_type": "stream",
     "text": [
      "10 10 10 10\n"
     ]
    }
   ],
   "source": [
    "# RESULT PAGE ELEMENT SETUP\n",
    "element_patent_num_xpath = \"//td[@class='sumtd2_PN']/a[@class='link02']\"\n",
    "element_patent_num = driver.find_elements_by_xpath(element_patent_num_xpath)\n",
    "element_patent_pubdate_xpath = \"//td[@class='sumtd2_PN']/a[@class='link02']\"\n",
    "element_patent_pubdate = driver.find_elements_by_xpath(element_patent_pubdate_xpath)\n",
    "element_patent_name_xpath = \"//td[@class='sumtd2_PN']/td[@class='sumtd2_TI']\"\n",
    "element_patent_name = driver.find_elements_by_xpath(element_patent_num_xpath)\n",
    "element_patent_pdf_xpath = \"//a[@href='javascript:void(0)']/img[@src='/tipotwo/img/pic_tabga.gif']\"\n",
    "element_patent_pdf = driver.find_elements_by_xpath(element_patent_pdf_xpath)\n",
    "print(len(element_patent_num),\n",
    "      len(element_patent_pubdate),\n",
    "      len(element_patent_name),\n",
    "      len(element_patent_pdf))"
   ]
  },
  {
   "cell_type": "code",
   "execution_count": 137,
   "metadata": {},
   "outputs": [],
   "source": [
    "# DOWNLOAD PDF\n",
    "item_list = zip(element_patent_num,element_patent_pubdate,element_patent_name,element_patent_pdf)\n",
    "for (num, pubdate, name, pdf) in item_list:\n",
    "    pdf.click()\n",
    "    time.sleep(20)"
   ]
  },
  {
   "cell_type": "code",
   "execution_count": 134,
   "metadata": {},
   "outputs": [],
   "source": [
    "# GET PAGES COUNT\n",
    "element_totolpages_xpath = \"/html/body/form/table/tbody/tr[2]/td/table/tbody/tr/td/table/tbody/tr[3]/td[2]/table/tbody/tr[1]/td/table/tbody/tr/td[1]/font/font[2]\"\n",
    "element_totolpages = driver.find_element_by_xpath(element_totolpages_xpath) #ex:\"1/26637\"\n",
    "total_pages = int( element_totolpages.text.split('/')[-1] ) #ex:26637, type:int\n",
    "\n",
    "\n",
    "# CHANGE TO PAGE\n",
    "element_inputpage_xpath = \"//nobr/input[@class='jpage' and @type='text']\"\n",
    "element_inputpage = driver.find_element_by_xpath(element_inputpage_xpath)\n",
    "element_inputpage.send_keys(Keys.CONTROL + \"a\")\n",
    "element_inputpage.send_keys(Keys.DELETE)\n",
    "element_inputpage.send_keys('1055')\n",
    "\n",
    "element_pagebutton_xpath = \"//td[@valign='bottom']/input[@src='/tipotwo/img/redisplay_1.gif']\"\n",
    "element_pagebutton = driver.find_element_by_xpath(element_pagebutton_xpath)\n",
    "element_pagebutton.click()\n",
    "time.sleep(20)"
   ]
  },
  {
   "cell_type": "code",
   "execution_count": null,
   "metadata": {},
   "outputs": [],
   "source": []
  }
 ],
 "metadata": {
  "kernelspec": {
   "display_name": "Python 3",
   "language": "python",
   "name": "python3"
  },
  "language_info": {
   "codemirror_mode": {
    "name": "ipython",
    "version": 3
   },
   "file_extension": ".py",
   "mimetype": "text/x-python",
   "name": "python",
   "nbconvert_exporter": "python",
   "pygments_lexer": "ipython3",
   "version": "3.6.7"
  }
 },
 "nbformat": 4,
 "nbformat_minor": 2
}
